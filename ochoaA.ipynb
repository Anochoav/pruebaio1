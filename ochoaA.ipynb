{
  "nbformat": 4,
  "nbformat_minor": 0,
  "metadata": {
    "colab": {
      "provenance": [],
      "authorship_tag": "ABX9TyNxgFp2t+Kfn61IQdYac2iZ",
      "include_colab_link": true
    },
    "kernelspec": {
      "name": "python3",
      "display_name": "Python 3"
    },
    "language_info": {
      "name": "python"
    }
  },
  "cells": [
    {
      "cell_type": "markdown",
      "metadata": {
        "id": "view-in-github",
        "colab_type": "text"
      },
      "source": [
        "<a href=\"https://colab.research.google.com/github/Anochoav/pruebaio1/blob/main/ochoaA.ipynb\" target=\"_parent\"><img src=\"https://colab.research.google.com/assets/colab-badge.svg\" alt=\"Open In Colab\"/></a>"
      ]
    },
    {
      "cell_type": "markdown",
      "source": [
        "# Mi primera vez\n",
        "## subtitulo\n"
      ],
      "metadata": {
        "id": "_ma7L7PpemNX"
      }
    },
    {
      "cell_type": "code",
      "source": [
        "print(\"buenos dias mundo\")"
      ],
      "metadata": {
        "colab": {
          "base_uri": "https://localhost:8080/"
        },
        "id": "2BR5OKw0dbhv",
        "outputId": "c8e48b5b-d6bc-4830-aad3-fded562056b7"
      },
      "execution_count": 5,
      "outputs": [
        {
          "output_type": "stream",
          "name": "stdout",
          "text": [
            "buenos dias mundo\n"
          ]
        }
      ]
    },
    {
      "cell_type": "markdown",
      "source": [
        "# buenos dias\n"
      ],
      "metadata": {
        "id": "hf5y0lHKfCmN"
      }
    },
    {
      "cell_type": "code",
      "source": [
        "print(\"buenos dias andres\")"
      ],
      "metadata": {
        "colab": {
          "base_uri": "https://localhost:8080/"
        },
        "id": "B90HY1M5fLqt",
        "outputId": "e1aaf95d-ff9c-44af-b7f0-aa83e715bbbd"
      },
      "execution_count": 6,
      "outputs": [
        {
          "output_type": "stream",
          "name": "stdout",
          "text": [
            "buenos dias andres\n"
          ]
        }
      ]
    }
  ]
}